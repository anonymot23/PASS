{
 "cells": [
  {
   "cell_type": "code",
   "execution_count": 1,
   "metadata": {},
   "outputs": [
    {
     "data": {
      "application/javascript": [
       "$.getScript('ipython_notebook_toc.js')\n"
      ],
      "text/plain": [
       "<IPython.core.display.Javascript object>"
      ]
     },
     "metadata": {},
     "output_type": "display_data"
    }
   ],
   "source": [
    "%%javascript\n",
    "$.getScript('ipython_notebook_toc.js')"
   ]
  },
  {
   "cell_type": "markdown",
   "metadata": {},
   "source": [
    "<div style=\"float: left; margin-right: 20px;font-size:20px\" ><b> Presentation of the results </b></div> <div style=\"float: right; margin-right: 20px;font-size:20px\" ><b> Février 2020 </b></div>\n",
    "&nbsp;\n",
    "<hr> </hr>\n",
    "\n",
    "<div style=\"text-align: center;font-size:30px;font-weight:bold\"> Reinforcement learning : improving learning rate </div>\n",
    "<hr> </hr>\n",
    "\n"
   ]
  },
  {
   "cell_type": "markdown",
   "metadata": {},
   "source": [
    "<div style=\"float: left; margin-right: 20px;font-size:27px;font-weight:bold\" id=\"tocheading\">Table of Contents</div>\n",
    "<div style=\"height:30px\" id=\"spacebeforetoc\"> </div>\n",
    "<div style=\"font-size:20px;font-weight:bold\" id=\"toc\"></div>"
   ]
  },
  {
   "cell_type": "markdown",
   "metadata": {},
   "source": [
    "<div style=\"float: left; margin-right: 20px;font-size:27px;font-weight:bold\" id=\"tocheading\">Import libraries </div>"
   ]
  },
  {
   "cell_type": "code",
   "execution_count": 24,
   "metadata": {},
   "outputs": [],
   "source": [
    "import numpy as np\n",
    "import pandas as pd\n",
    "import matplotlib.pyplot as plt\n",
    "import Plotting.plotting as pltg\n",
    "\n",
    "\n",
    "### For part 1 \n",
    "from Estim_mean.Compare_methods import Compare_methods, plot_estim_quick\n",
    "\n",
    "### For part 2\n",
    "from Opti_placement.Compare_method_opti_placement import Compare_methods_op\n",
    "\n",
    "### For part 3 \n",
    "from Opti_exec.Compare_methods_optiexec import Compare_methods_opexec"
   ]
  },
  {
   "cell_type": "markdown",
   "metadata": {},
   "source": [
    "# Part 1: Drift estimation"
   ]
  },
  {
   "cell_type": "markdown",
   "metadata": {},
   "source": [
    "**Context:** We observe a process $(S_{n})_{n\\geq 0}$ which satisfies \n",
    "    \n",
    "$$\n",
    "S_{n+1} = S_n + f_{n+1} + W_n,\n",
    "$$\n",
    "\n",
    "with $W_n$ a centered noise with finite variance. \n",
    "\n",
    "__We want to estimate the quantities $f_i$ with $i \\in  \\{1,\\cdots,n_{max} \\}$.__\n",
    "\n",
    "Using $\\mathbb{E}[W_t] = 0$, we get \n",
    "\n",
    "$$\n",
    "\\mathbb{E}\\big[S_{i+1} - S_{i} - f_{i+1} \\big] = 0, \\qquad \\forall i \\in \\{0,\\cdots,n_{max}-1 \\}.\n",
    "$$\n",
    "\n",
    "Thus, we can estimate using the following algorithm to approximate $(f_i)_{1 \\leq i \\leq n_{max}}$\n",
    "\n",
    "$$\n",
    "\\left\\{\n",
    "\\begin{array}{lcl}\n",
    "f^{n+1}_{j+1} & = & f^n_{j+1} - \\gamma^n_j \\big(S^{n+1}_{j+1} - S^{n}_j - f^{n}_{j+1}\\big), \\qquad \\forall j \\in \\{0,\\cdots,n_{max}-1 \\}. \\\\\n",
    "f^{0}_{j} & = & f_0 \\text{ is given.}\n",
    "\\end{array}\n",
    "\\right.\n",
    "$$\n"
   ]
  },
  {
   "cell_type": "markdown",
   "metadata": {},
   "source": [
    "## Presentation of the algorithms"
   ]
  },
  {
   "cell_type": "markdown",
   "metadata": {},
   "source": [
    "For this we compare 4 types of algorithm:\n",
    "\n",
    "1. **1/n**: In this case the learning rate $(\\gamma_n)_{n \\geq 1}$ is taken such that \n",
    "$$\n",
    "\\gamma^n_j = \\cfrac{\\eta}{nb_j}, \\qquad \\eta > 0,\n",
    "$$\n",
    "with $nb_j$ the number of visits of the state $j$. Note that we modify the learning rate $\\gamma^n_j$ only when the state $j$ is visited. \n",
    "2. **step_cste**: In this case the learning rate $(\\gamma_n)_{n \\geq 1}$ is piece-wise constant. We start with an inital value $\\gamma_0$ for the learning rate and when the average error \n",
    "\n",
    "$$\n",
    "\\big(S^{n+1}_{j+1} - S^{n}_j - f^{n}_{j+1}\\big),\n",
    "$$\n",
    "\n",
    "   over the last $p$ visit times starts to stabilize, we reduce the value of the learning rate by a factor $\\alpha$.\n",
    "   \n",
    "3. **SAGA**: In this case the learning rate $(\\gamma_n)_{n \\geq 1}$ follows the **step_cste** policy and we apply the following version of the SAGA algorithm:\n",
    "$$\n",
    "\\begin{array}{lcl}\n",
    "f^{n+1}(j+1) & = & f^{n}(j+1) - \\gamma^n_j \\left[m(f^n,\\Delta S^{n+1},j) - \\color{blue}M^n[j,\\color{green}i] +  \\cfrac{\\big(\\sum_{r=1}^M  \\color{blue}M^n[j,r] \\big)}{M }\\right] ,\\\\\n",
    "m(f^n,\\Delta S^{n+1},j)  & = & \\big(S^{n+1}_{j+1} - S^{n}_j - f^{n}_{j+1}\\big),\\\\\n",
    "M^{n+1}[j,i]  & = & m(f^n,\\Delta S^{n+1}, j),\n",
    "\\end{array}\n",
    "$$\n",
    "\n",
    "   with $f^0$ given, $M^0 = 0$ and $i$ picked from the distribution $p =  (\\sum_{i=1}^M \\delta_i)/M$. \n",
    "\n",
    "4. **PASS**: In this case, we have a piecewise constant ``reference learning rate`` $\\gamma_n(z)$ derive from  **step_cste** policy and a ``current learning rate`` $\\hat{\\gamma}_n(z)$\n",
    "\n",
    "      1. We use a function $h$ to increase $\\hat{\\gamma}_n(z)$ when two consecutive descents are in the same direction.\n",
    "      \n",
    "      2. We use a function $l$ to decrease $\\hat{\\gamma}_n(z)$ when it is not the case.\n",
    "         \n",
    "   It reads, \n",
    "   \n",
    "   * If $m(q_n,X_{n+1}(Z_n),Z_n) \\times m(q_{r^n_1},X_{r^n_1+1}(Z_{r^n_1}),Z_{r^n_1}) \\geq 0$, then do \n",
    "   $$\n",
    "   \\begin{array}{lcl}\n",
    "    f^{n+1}_{j+1} & = & f^{n}_{j+1} - h\\big(\\hat{\\gamma}^n_j,\\gamma^n_j\\big) m(f^n,\\Delta S^{n+1},j),\\\\\n",
    "\\hat{\\gamma}^{n+1}_j & = & h\\big(\\hat{\\gamma}^n_j,\\gamma^n_j \\big), \n",
    "   \\end{array}\n",
    "   $$\n",
    "   with $r^n_j$ is the index of the last $j$-th observation when the process $X$ visits the state $X_n$.\n",
    "   * Else, do\n",
    "   $$\n",
    "   \\begin{array}{lcl}\n",
    "    f^{n+1}_{j+1} & = & f^{n}_{j+1} - l\\big(\\hat{\\gamma}^n_j,\\gamma^n_j\\big) m(f^n,\\Delta S^{n+1},j),\\\\\n",
    "\\hat{\\gamma}^{n+1}_j & = & h\\big(\\hat{\\gamma}^n_j,\\gamma^n_j \\big).\n",
    "   \\end{array}\n",
    "   $$"
   ]
  },
  {
   "cell_type": "markdown",
   "metadata": {},
   "source": [
    "## Implementation of the methods"
   ]
  },
  {
   "cell_type": "code",
   "execution_count": 15,
   "metadata": {},
   "outputs": [
    {
     "name": "stdout",
     "output_type": "stream",
     "text": [
      " n is :0\n",
      " n is :50\n"
     ]
    },
    {
     "data": {
      "image/png": "[encoded data removed]",
      "text/plain": [
       "<Figure size 576x360 with 1 Axes>"
      ]
     },
     "metadata": {
      "needs_background": "light"
     },
     "output_type": "display_data"
    }
   ],
   "source": [
    "## Plot improvement \n",
    "######### Initialize the parameters \n",
    "gamma = 0.1 ## learning rate\n",
    "NbSimu = 100\n",
    "nb_episode = 70\n",
    "\n",
    "res = Compare_methods(gamma, NbSimu = NbSimu, nb_episode = nb_episode)\n",
    "index = res['index']\n",
    "error1 = res['1/n']\n",
    "error2 = res['step_cste']\n",
    "error3 = res['SAGA']\n",
    "error4 = res['PASS']\n",
    "\n",
    "option_save = \"\"\n",
    "path_Image = \"Image\"; ImageName = \"\\\\improvement_drift_estim_v2_\" + str(NbSimu) + \"_simu_f_l_2\"\n",
    "df = [ [index,error1],\n",
    "       [index,error2],\n",
    "       [index,error3],\n",
    "       [index,error4]]\n",
    "\n",
    "labels = [\"1/n\", \"step_cste\", \"SAGA\", \"PASS\"]\n",
    "mark = ['o', '*' , 'x', 'v']\n",
    "bbox_to_anchor_0 = (0.7,.75)\n",
    "fig = plt.figure(figsize=(8,5))\n",
    "pltg.Plot_plot(df,labels, xlabel =\"Number of iterations\", ylabel =\"Log L2 - error\",\n",
    "               option=option_save, path =path_Image, ImageName=ImageName, Nset_tick_x = False, mark = mark, bbox_to_anchor_0 = bbox_to_anchor_0)\n"
   ]
  },
  {
   "cell_type": "code",
   "execution_count": 10,
   "metadata": {},
   "outputs": [
    {
     "data": {
      "application/vnd.jupyter.widget-view+json": {
       "model_id": "ce726269de61424196551afe65e25836",
       "version_major": 2,
       "version_minor": 0
      },
      "text/plain": [
       "VBox(children=(Output(), FloatSlider(value=0.1, continuous_update=False, description='Learning rate', layout=L…"
      ]
     },
     "metadata": {},
     "output_type": "display_data"
    }
   ],
   "source": [
    "from ipywidgets import interactive_output, FloatSlider, VBox, Dropdown, Layout, Label\n",
    "\n",
    "n = FloatSlider(value=0.1,\n",
    "              min=0.01,\n",
    "              max=0.1,\n",
    "              description=\"Learning rate\",\n",
    "              continuous_update=False,\n",
    "              step=0.001,\n",
    "              layout=Layout(width='auto', height='auto'))\n",
    "\n",
    "\n",
    "interactive_plot = interactive_output(lambda n : plot_estim_quick(n),\n",
    "                                      {'n': n})\n",
    "\n",
    "VBox([interactive_plot, n])"
   ]
  },
  {
   "cell_type": "markdown",
   "metadata": {},
   "source": [
    "# Part 2: Optimal placement of a limit order"
   ]
  },
  {
   "cell_type": "markdown",
   "metadata": {},
   "source": [
    "**Context** We consider an agent who aims at buying a unit quantity using limit orders and market orders.\n",
    "\n",
    "<center>\n",
    "<img src=\"./figures/opti_placement.png\" style=\"width: 600px;\"/>\n",
    "    <i> A unit order inserted in the limit order book </i>\n",
    "</center>\n",
    "\n",
    "\n",
    "In such case, the agents wonder how to find the right balance between fast execution and avoiding trading costs associated to the bid-ask spread.\n",
    "\n",
    "The agent state at time $t$ is modelled by $X_t = (Q^{Before},Q^{After},P)$ with $Q^{Before}$ the number of shares placed before the agent's order, $Q^{After}$ the queue size after the agent's order and $P_t$ the mid price. \n",
    "\n",
    "The agents wants to minimise the quantity \n",
    "\n",
    "$$\n",
    "\\mathbb{E}[F(X_{\\tau\\vee T^{\\textrm{exec}}}) + \\int_0^{\\tau\\vee T^{\\textrm{exec}}} c \\, ds]\n",
    "$$\n",
    "\n",
    "where \n",
    "\n",
    "* $T^{\\textrm{exec}} = \\inf\\{ t \\geq 0, \\, P_t = 0\\}$ the first time when the limit order gets a transaction.\n",
    "\n",
    "\n",
    "* $\\tau$ the first time when a market order is sent.\n",
    "\n",
    "\n",
    "* $X=(Q^{Before},Q^{After}, P)$ the state of the order book.\n",
    "\n",
    "\n",
    "* $F(u)$ is the price of the transaction (i.e. $F(u)=p+\\psi$ when the agents crosses the spread and $F(u)=p$ otherwise).\n",
    "\n",
    "The $Q$-function \n",
    "\n",
    "$$\n",
    "Q(x,a) = \\sup_{A } \\mathbb{E}[F(X_{\\tau\\vee T^{\\textrm{exec}}}) + \\int_t^{\\tau\\vee T^{\\textrm{exec}}} c \\, ds |X_t =x,A_t = a],\\quad \\forall (x,a)\\in  \\mathcal{U} \\times \\mathcal{A},\n",
    "$$\n",
    "\n",
    "with $A = \\{A_t \\, , t < T\\}$ a possible control process for the agent. We view the agent control $A$ as a feedback process (i.e adapted to the filtration $\\mathcal{F}_t$). \n",
    "\n",
    "\n",
    "The $Q$-function satisfies the classical dynamic programming principle (DPP) \n",
    "\n",
    "$$\n",
    "Q(u,a) =   \\mathbb{E} [ R_{\\Delta} + \\underset{a' \\in \\mathcal{A}}{\\sup} \\, Q(X_{t+\\Delta},a')|X_t = x, A_t = a], \n",
    "$$\n",
    "\n",
    "\n",
    "with $ R_{\\Delta} = \\int_{t}^{t + \\Delta} c\\, ds$.  Above equation reads that the optimal expected gain when the agent starts at $x$ and chooses action $a$ at time $t$ is the sum of the next expected reward $R_{\\Delta}$ plus the value of acting optimally starting from the new position $X_{t+\\Delta}$ at time $t+\\Delta$. \n",
    "\n",
    "Thus, we can estimate using the following algorithm to approximate $Q$\n",
    "\n",
    "$$\n",
    "\\left\\{\n",
    "\\begin{array}{lcl}\n",
    "Q^{n+1}_{X_n,A_n} & = & Q^n_{X_n,A_n} - \\gamma^n_j \\big( R^{n+1} + \\underset{a' \\in \\mathcal{A}}{\\sup} \\, Q(X_{n+1},a') - Q^n_{X_n,A_n} \\big), \\\\\n",
    "Q^{0}_{x,a} & = & q_0 \\text{ is given,}\\quad \\forall (x,a)\\in \\times \\mathcal{X} \\times \\mathcal{A}\n",
    "\\end{array}\n",
    "\\right.\n",
    "$$\n",
    "\n"
   ]
  },
  {
   "cell_type": "markdown",
   "metadata": {},
   "source": [
    "## Presentation of the algorithms"
   ]
  },
  {
   "cell_type": "markdown",
   "metadata": {},
   "source": [
    "We use the same algorithms used in Part 1 to solve this problem."
   ]
  },
  {
   "cell_type": "markdown",
   "metadata": {},
   "source": [
    "## Implementation of the methods"
   ]
  },
  {
   "cell_type": "markdown",
   "metadata": {},
   "source": [
    "### Load data"
   ]
  },
  {
   "cell_type": "code",
   "execution_count": 19,
   "metadata": {},
   "outputs": [
    {
     "name": "stdout",
     "output_type": "stream",
     "text": [
      "   BB size     Limit    Cancel    Market\n",
      "0        1  0.235897  0.000000  0.000000\n",
      "1        2  0.636923  0.259423  0.170782\n",
      "2        3  0.504821  0.282179  0.126423\n",
      "3        4  0.471795  0.291282  0.098477\n",
      "4        5  0.377436  0.300385  0.084282\n",
      "5        6  0.353846  0.318590  0.077628\n",
      "6        7  0.349128  0.336795  0.070974\n",
      "7        8  0.353846  0.345897  0.064321\n",
      "8        9  0.346769  0.355000  0.063877\n",
      "9       10  0.353846  0.359551  0.063699\n"
     ]
    }
   ],
   "source": [
    "path = \"Opti_placement\\\\Data\\\\\"\n",
    "filename = \"Intens_val_qr.csv\"\n",
    "Intens_val = pd.read_csv(path + filename, index_col = 0)\n",
    "Intens_val_bis = Intens_val[Intens_val['Spread'] == 1].groupby(['BB size']).agg({'Limit':'mean', 'Cancel': 'mean', 'Market': 'mean'}).loc[:10,:]\n",
    "Intens_val_bis.reset_index(inplace = True)\n",
    "Intens_val_bis.loc[0,['Cancel','Market']] = 0\n",
    "    \n",
    "######### Show the database\n",
    "print(Intens_val_bis.head(10))"
   ]
  },
  {
   "cell_type": "markdown",
   "metadata": {},
   "source": [
    "### Compare algorithms"
   ]
  },
  {
   "cell_type": "code",
   "execution_count": 22,
   "metadata": {},
   "outputs": [
    {
     "name": "stderr",
     "output_type": "stream",
     "text": [
      "C:\\Users\\othmane.mounjid\\Documents\\GitHub\\RL_adap_stepsize\\Opti_placement\\Optimal_placing_reduced_no_link_bench_2.py:79: RuntimeWarning: divide by zero encountered in true_divide\n",
      "  times = np.random.exponential(1/intensities_values) ## time decision\n"
     ]
    },
    {
     "name": "stdout",
     "output_type": "stream",
     "text": [
      " frequency is : 39\n",
      " frequency is : 79\n",
      " frequency is : 119\n",
      " frequency is : 159\n",
      " frequency is : 199\n",
      " frequency is : 239\n",
      " frequency is : 279\n",
      " frequency is : 319\n",
      " frequency is : 359\n",
      " frequency is : 399\n",
      " frequency is : 439\n",
      " frequency is : 479\n"
     ]
    },
    {
     "name": "stderr",
     "output_type": "stream",
     "text": [
      "C:\\Users\\othmane.mounjid\\Documents\\GitHub\\RL_adap_stepsize\\Opti_placement\\Optimal_placing_reduced_no_link_1_n_2.py:80: RuntimeWarning: divide by zero encountered in true_divide\n",
      "  times = np.random.exponential(1/intensities_values) ## time decision\n"
     ]
    },
    {
     "name": "stdout",
     "output_type": "stream",
     "text": [
      " frequency is : 39\n",
      " frequency is : 79\n",
      " frequency is : 119\n",
      " frequency is : 159\n",
      " frequency is : 199\n",
      " frequency is : 239\n",
      " frequency is : 279\n",
      " frequency is : 319\n",
      " frequency is : 359\n",
      " frequency is : 399\n",
      " frequency is : 439\n",
      " frequency is : 479\n"
     ]
    },
    {
     "name": "stderr",
     "output_type": "stream",
     "text": [
      "C:\\Users\\othmane.mounjid\\Documents\\GitHub\\RL_adap_stepsize\\Opti_placement\\Optimal_placing_reduced_no_link_saga_2.py:81: RuntimeWarning: divide by zero encountered in true_divide\n",
      "  times = np.random.exponential(1/intensities_values)\n"
     ]
    },
    {
     "name": "stdout",
     "output_type": "stream",
     "text": [
      " frequency is : 39\n",
      " frequency is : 79\n",
      " frequency is : 119\n",
      " frequency is : 159\n",
      " frequency is : 199\n",
      " frequency is : 239\n",
      " frequency is : 279\n",
      " frequency is : 319\n",
      " frequency is : 359\n",
      " frequency is : 399\n",
      " frequency is : 439\n",
      " frequency is : 479\n"
     ]
    },
    {
     "name": "stderr",
     "output_type": "stream",
     "text": [
      "C:\\Users\\othmane.mounjid\\Documents\\GitHub\\RL_adap_stepsize\\Opti_placement\\Optimal_placing_reduced_no_link_pass_2.py:78: RuntimeWarning: divide by zero encountered in true_divide\n",
      "  times = np.random.exponential(1/intensities_values)\n"
     ]
    },
    {
     "name": "stdout",
     "output_type": "stream",
     "text": [
      " frequency is : 39\n"
     ]
    },
    {
     "name": "stderr",
     "output_type": "stream",
     "text": [
      "C:\\Users\\othmane.mounjid\\Documents\\GitHub\\RL_adap_stepsize\\Opti_placement\\Optimal_placing_reduced_no_link_pass_2.py:285: RuntimeWarning: divide by zero encountered in double_scalars\n",
      "  pctg_last = ((mean_error_estim[index_count_before,1] - mean_error_estim[count_reward,1])/mean_error_estim[index_count_before,1])\n"
     ]
    },
    {
     "name": "stdout",
     "output_type": "stream",
     "text": [
      " frequency is : 79\n",
      " frequency is : 119\n",
      " frequency is : 159\n",
      " frequency is : 199\n",
      " frequency is : 239\n",
      " frequency is : 279\n",
      " frequency is : 319\n",
      " frequency is : 359\n",
      " frequency is : 399\n",
      " frequency is : 439\n",
      " frequency is : 479\n",
      "[4. 2.]\n",
      "0.0125\n",
      " n is :0\n"
     ]
    },
    {
     "data": {
      "image/png": "[encoded data removed]",
      "text/plain": [
       "<Figure size 576x360 with 1 Axes>"
      ]
     },
     "metadata": {
      "needs_background": "light"
     },
     "output_type": "display_data"
    }
   ],
   "source": [
    "## Plot improvement \n",
    "res = Compare_methods_op(Intens_val_bis, gamma = 0.1)\n",
    "index = res['index']\n",
    "error1 = res['1/n']\n",
    "error2 = res['step_cste']\n",
    "error3 = res['SAGA']\n",
    "error4 = res['PASS']\n",
    "\n",
    "### plot values    \n",
    "option_save = \"\"; path_Image = \"\"; ImageName = \"\"\n",
    "df = [ [index,error1],\n",
    "       [index,error2],\n",
    "       [index,error3],\n",
    "       [index,error4]]   \n",
    "labels = [\"1/n\", \"step_cste\", \"SAGA\", \"PASS\"]\n",
    "mark = ['o', '*' , 'x', 'v']\n",
    "bbox_to_anchor_0 = (0.7,.75)\n",
    "plt.figure(figsize=(8,5))\n",
    "pltg.Plot_plot(df,labels, xlabel =\"Number of iterations\", ylabel =\"Log L2 - error\",\n",
    "               option=option_save, path =path_Image, ImageName=ImageName, Nset_tick_x = False, mark = mark, bbox_to_anchor_0 = bbox_to_anchor_0)\n",
    "plt.show()"
   ]
  },
  {
   "cell_type": "markdown",
   "metadata": {},
   "source": [
    "### Comparison value function after 300 iterations"
   ]
  },
  {
   "cell_type": "markdown",
   "metadata": {},
   "source": [
    "<center>\n",
    "<img src=\"./figures/Opti_placement_value.png\" style=\"width: 600px;\"/>\n",
    "    <i> Optimal control comparison after 300 iterations for different methods: left is the theoretical optimal control, middle is step\\_cste and right is PASS. </i>\n",
    "</center>"
   ]
  },
  {
   "cell_type": "markdown",
   "metadata": {},
   "source": [
    "# Part 3: Optimal execution of a large order"
   ]
  },
  {
   "cell_type": "markdown",
   "metadata": {},
   "source": [
    "**Context** An investor wants to buy a given quantity $q_0$.\n",
    "\n",
    "The price $S_t$ of a tradable instrument satisfies the following dynamic:\n",
    "\n",
    "$$\n",
    "dS_t = \\alpha \\mu dt + \\sigma dB_t.\n",
    "$$\n",
    "\n",
    "The state of the investor is described by two variables its inventory $Q_t$ and its wealth $W_t$ at time $t$. \n",
    "\n",
    "The evolution of these two variables reads \n",
    "\n",
    "$$\n",
    "\\left\\{\n",
    "\\begin{array}{ll}\n",
    "dQ_t = \\nu dt, & Q_0 = q_0,\\\\\n",
    "dW_t = - \\nu (S_t + \\kappa \\nu) dt, & W_0 = 0,\n",
    "\\end{array}\n",
    "\\right.\n",
    "$$\n",
    "\n",
    "The investor wants to maximize the following quantity\n",
    "\n",
    "$$\n",
    "W_T + Q_T (S_T - A Q_T) - \\phi \\int_{t}^T Q_s^2 \\, ds,\n",
    "$$\n",
    "\n",
    "it represents its final wealth $X_T$ at time $T$, plus the value of its inventory penalized by a terminal cost and minus a running quadratic cost.\n",
    "\n",
    "\n",
    "The value function $V$ is defined such that\n",
    "\n",
    "$$\n",
    "V(t,w,q,s) = \\sup_{\\nu} \\mathbb{E}\\big[ W_T + Q_T (S_T - A Q_T) - \\phi \\int_{t}^T Q_s^2 \\, ds |W_t = w,\\,Q_t = q,\\,S_t =s\\big].\n",
    "$$\n",
    "\n",
    "\n",
    "\n",
    "\n",
    "We remark that $v(t,w,q,s) = V(t,w,q,s) - w -qs $ verifies\n",
    "\n",
    "$$\n",
    "v(t,w,q,s) = \\sup_{\\nu} \\mathbb{E} \\big[ \\underbrace{(W_T - W_t) + (Q_T S_T - Q_t S_t)}_{ = M_T^t} - A Q^2_T - \\phi \\int_{t}^T Q_s^2 \\, ds |W_t = w,\\,Q_t = q,\\,S_t =s\\big].\n",
    "$$\n",
    "\n",
    "\n",
    "where the variable $M_T^t$ is independent of the initial values $W_t$, $ S_t$ and $Q_t$. This means that $v$ is a function of only two variables the time $t$ and the inventory $q$. \n",
    "\n",
    "\n",
    "\n",
    "\n",
    "The dynamic programming principle ensures that $v$ satisfies \n",
    "\n",
    "$$\n",
    "v(t,q) = \\sup_{\\nu} \\mathbb{E} \\big[ M_{t+\\Delta}^t - \\phi \\int_{t}^{t+\\Delta} Q_s^2 \\, ds + v(t+\\Delta,Q_{t+\\Delta}) |Q_t = q\\big].\n",
    "$$\n",
    "\n",
    "\n",
    "\n",
    "\n",
    "We fix a maximum inventory $\\bar{q}$. Let $k = (k_T,k_q) \\in (\\mathbb{N}^*)^2$, $\\Delta = T/k_T$, $D_T = \\{t_i^{k_T};\\,i\\leq k_T\\}$ and $D_q = \\{q_i^{k_q};\\,i\\leq k_q\\}$ with $t_i^{k_T} = i \\Delta$ and $q_i^{k_q} = -\\bar{q} + 2i \\bar{q}/ k_q $. \n",
    "\n",
    "\n",
    "To estimate $v$ we use the following scheme $(v_n^k)_{n \\geq 1,\\,k\\in(\\mathbb{N}^*)^2}$ defined such that \n",
    "\n",
    "$$\n",
    "v_{n+1}^k(Z_n) = v_{n}^k(Z_n) + \\gamma_n(Z_n) \\big[ \\sup_{\\nu \\in A(Z_n)} \\{ M^\\nu_{n+1} - \\phi \\Delta Q_n^2 + v^k_n(Z^\\nu_{n+1})  - v^k_n(Z_n)\\} \\big],\n",
    "$$\n",
    "\n",
    "with $Z_n = (n \\Delta, Q_{n\\Delta})$ and $ A(Z_n) \\in D_q$ is the set of admissible actions. We do not allow controls that leads to states where the inventory exceeds $\\bar{q}$. "
   ]
  },
  {
   "cell_type": "markdown",
   "metadata": {},
   "source": [
    "## Presentation of the algorithms"
   ]
  },
  {
   "cell_type": "markdown",
   "metadata": {},
   "source": [
    "We use the same algorithms used in Part 1 to solve this problem."
   ]
  },
  {
   "cell_type": "markdown",
   "metadata": {},
   "source": [
    "## Implementation of the methods"
   ]
  },
  {
   "cell_type": "code",
   "execution_count": null,
   "metadata": {},
   "outputs": [
    {
     "name": "stdout",
     "output_type": "stream",
     "text": [
      " frequency is : 599\n",
      " frequency is : 1199\n",
      " frequency is : 1799\n",
      " frequency is : 2399\n",
      " frequency is : 2999\n",
      " frequency is : 3599\n",
      " frequency is : 4199\n",
      " frequency is : 4799\n",
      " frequency is : 599\n",
      " frequency is : 1199\n",
      " frequency is : 1799\n",
      " frequency is : 2399\n",
      "0.05\n",
      "0.0007943332260213996\n",
      "0\n",
      " frequency is : 2999\n",
      "0.05\n",
      "-0.00011084956704984983\n",
      "1\n"
     ]
    }
   ],
   "source": [
    "## Plot improvement \n",
    "res = Compare_methods_opexec(gamma = 0.05, nb_episode = 5000)\n",
    "index = res['index']\n",
    "error1 = res['1/n']\n",
    "error2 = res['step_cste']\n",
    "error3 = res['SAGA']\n",
    "error4 = res['PASS']\n",
    "\n",
    "### plot values    \n",
    "option_save = \"\"; path_Image = \"\"; ImageName = \"\"\n",
    "df = [ [index,error1],\n",
    "       [index,error2],\n",
    "       [index,error3],\n",
    "       [index,error4]]   \n",
    "labels = [\"1/n\", \"step_cste\", \"SAGA\", \"PASS\"]\n",
    "mark = ['o', '*' , 'x', 'v']\n",
    "bbox_to_anchor_0 = (0.7,.75)\n",
    "plt.figure(figsize=(8,5))\n",
    "pltg.Plot_plot(df,labels, xlabel =\"Number of iterations\", ylabel =\"Log L2 - error\",\n",
    "               option=option_save, path =path_Image, ImageName=ImageName, Nset_tick_x = False, mark = mark, bbox_to_anchor_0 = bbox_to_anchor_0)\n",
    "plt.show()"
   ]
  },
  {
   "cell_type": "code",
   "execution_count": null,
   "metadata": {},
   "outputs": [],
   "source": [
    "### Average comparison "
   ]
  },
  {
   "cell_type": "markdown",
   "metadata": {},
   "source": [
    "<center>\n",
    "<img src=\"./figures/improvement_optimal_exec_f_cmap_reduced112_simu_f.pdf\" style=\"width: 600px;\"/>\n",
    "    <i> The log $L^2$-error against the number of iterations averaged over 115 simulated paths. </i>\n",
    "</center>"
   ]
  }
 ],
 "metadata": {
  "kernelspec": {
   "display_name": "Python 3",
   "language": "python",
   "name": "python3"
  },
  "language_info": {
   "codemirror_mode": {
    "name": "ipython",
    "version": 3
   },
   "file_extension": ".py",
   "mimetype": "text/x-python",
   "name": "python",
   "nbconvert_exporter": "python",
   "pygments_lexer": "ipython3",
   "version": "3.7.3"
  }
 },
 "nbformat": 4,
 "nbformat_minor": 2
}
